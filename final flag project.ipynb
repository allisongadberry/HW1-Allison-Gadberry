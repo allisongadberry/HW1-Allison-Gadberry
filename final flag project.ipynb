{
 "cells": [
  {
   "cell_type": "code",
   "execution_count": 1,
   "id": "56c526b3",
   "metadata": {},
   "outputs": [],
   "source": [
    "import turtle\n",
    "t = turtle.Turtle()\n",
    "t.speed(10)"
   ]
  },
  {
   "cell_type": "code",
   "execution_count": 2,
   "id": "afd1ec0f",
   "metadata": {},
   "outputs": [],
   "source": [
    "def draw_flag(height):\n",
    "    t.penup()\n",
    "    t.goto(-height, 14/13*height)\n",
    "    t.pendown()\n",
    "    draw_rectangle(1.9*height, height, \"white\")\n",
    "    for i in range(7):\n",
    "        t.goto(-height, (7-i)*(2/13)*height)\n",
    "        draw_rectangle((1.9*height), (1/13)*height, \"red\")\n",
    "    t.goto(-height, (14/13)*height)\n",
    "    draw_rectangle(.76*height, (7/13*height), \"blue\")\n",
    "    for i in range(5):\n",
    "        t.goto(-height, (1.045)*height-i*(.1*height))\n",
    "        star_row(6, .05*height, .13*height)\n",
    "        t.penup\n",
    "    for i in range(4):\n",
    "        t.goto(-height, (.995)*height-i*(.1*height))\n",
    "        star_row(5, .05*height, .13*height)\n",
    "    t.hideturtle()\n",
    "    turtle.done()"
   ]
  },
  {
   "cell_type": "code",
   "execution_count": 3,
   "id": "b71c2417",
   "metadata": {},
   "outputs": [],
   "source": [
    "def draw_rectangle(length, height, color):\n",
    "    t.pencolor(color)\n",
    "    t.fillcolor(color)\n",
    "    t.begin_fill()\n",
    "    t.fd(length)\n",
    "    t.rt(90)\n",
    "    t.fd(height)\n",
    "    t.rt(90)\n",
    "    t.fd(length)\n",
    "    t.rt(90)\n",
    "    t.fd(height)\n",
    "    t.rt(90)\n",
    "    t.end_fill()\n",
    "    t.penup()"
   ]
  },
  {
   "cell_type": "code",
   "execution_count": 4,
   "id": "562f383a",
   "metadata": {},
   "outputs": [],
   "source": [
    "def get_color(color):\n",
    "    import matplotlib as plt\n",
    "    return plt.colors.to_rgba(color)[0:3] "
   ]
  },
  {
   "cell_type": "code",
   "execution_count": 5,
   "id": "9fd27aba",
   "metadata": {},
   "outputs": [],
   "source": [
    "def main():\n",
    "    print(\"red:\", get_color(\"red\"))\n",
    "    print(\"white:\", get_color(\"white\"))\n",
    "    print(\"blue:\", get_color(\"blue\"))\n",
    "    draw_flag(300)\n",
    "    "
   ]
  },
  {
   "cell_type": "code",
   "execution_count": 6,
   "id": "29285484",
   "metadata": {},
   "outputs": [],
   "source": [
    "def draw_star(size, color):\n",
    "    t.pencolor(color)\n",
    "    t.fillcolor(color)\n",
    "    t.rt(72)\n",
    "    t.begin_fill()\n",
    "    for side in range(5):\n",
    "        t.forward(size/2)\n",
    "        t.lt(72)\n",
    "        t.forward(size/2)\n",
    "        t.rt(144)\n",
    "    t.end_fill()\n",
    "    t.lt(72)\n",
    "\n",
    "\n",
    "    "
   ]
  },
  {
   "cell_type": "code",
   "execution_count": 7,
   "id": "62940ff5",
   "metadata": {},
   "outputs": [],
   "source": [
    "def star_row(number, size, spacing):\n",
    "    t.penup()\n",
    "    if number == 6:\n",
    "        t.forward(spacing/3)\n",
    "    else:\n",
    "        t.forward(spacing*(5/6))\n",
    "    for i in range(number):\n",
    "        draw_star(size, \"white\")\n",
    "        t.penup()\n",
    "        t.forward(spacing)\n",
    "    \n"
   ]
  },
  {
   "cell_type": "code",
   "execution_count": null,
   "id": "62c9a73a",
   "metadata": {},
   "outputs": [
    {
     "name": "stdout",
     "output_type": "stream",
     "text": [
      "red: (1.0, 0.0, 0.0)\n",
      "white: (1.0, 1.0, 1.0)\n",
      "blue: (0.0, 0.0, 1.0)\n"
     ]
    }
   ],
   "source": [
    "if __name__ == \"__main__\":\n",
    "    main()"
   ]
  },
  {
   "cell_type": "code",
   "execution_count": null,
   "id": "5152a7e6",
   "metadata": {},
   "outputs": [],
   "source": []
  },
  {
   "cell_type": "code",
   "execution_count": null,
   "id": "367e9bd6",
   "metadata": {},
   "outputs": [],
   "source": []
  }
 ],
 "metadata": {
  "kernelspec": {
   "display_name": "Python 3 (ipykernel)",
   "language": "python",
   "name": "python3"
  },
  "language_info": {
   "codemirror_mode": {
    "name": "ipython",
    "version": 3
   },
   "file_extension": ".py",
   "mimetype": "text/x-python",
   "name": "python",
   "nbconvert_exporter": "python",
   "pygments_lexer": "ipython3",
   "version": "3.9.12"
  }
 },
 "nbformat": 4,
 "nbformat_minor": 5
}
