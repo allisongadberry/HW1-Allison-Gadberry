{
 "cells": [
  {
   "cell_type": "code",
   "execution_count": 1,
   "id": "5c51415d",
   "metadata": {},
   "outputs": [
    {
     "name": "stdout",
     "output_type": "stream",
     "text": [
      "88\n",
      "cannot find student's name\n"
     ]
    }
   ],
   "source": [
    "marks = {\"Andy\": 88, \"Amy\": 66, \"James\": 90, \"Jules\": 55, \"Arthur\": 77}\n",
    "\n",
    "def grade(name):\n",
    "    if name in marks:\n",
    "        print(marks[name])\n",
    "    else:\n",
    "        print(\"cannot find student's name\")\n",
    "        \n",
    "grade(\"Andy\")\n",
    "grade(\"Allison\")"
   ]
  },
  {
   "cell_type": "code",
   "execution_count": 2,
   "id": "899faea6",
   "metadata": {},
   "outputs": [
    {
     "name": "stdout",
     "output_type": "stream",
     "text": [
      "75.2\n"
     ]
    }
   ],
   "source": [
    "def avg(grades):\n",
    "    average = sum(grades.values()) / len(grades.values())\n",
    "    print(average)\n",
    "    \n",
    "avg(marks)"
   ]
  },
  {
   "cell_type": "code",
   "execution_count": 6,
   "id": "a654565b",
   "metadata": {},
   "outputs": [
    {
     "name": "stdout",
     "output_type": "stream",
     "text": [
      "1 1\n",
      "2 4\n",
      "3 9\n",
      "4 16\n",
      "5 25\n",
      "6 36\n",
      "7 49\n",
      "greater than 8\n"
     ]
    }
   ],
   "source": [
    "def numSquare(num):\n",
    "    n = 1\n",
    "    while n < num:\n",
    "        print(n, n ** 2)\n",
    "        n += 1\n",
    "    else: \n",
    "        print(\"greater than\", num)\n",
    "        \n",
    "numSquare(8)"
   ]
  },
  {
   "cell_type": "code",
   "execution_count": 13,
   "id": "03f8331c",
   "metadata": {},
   "outputs": [
    {
     "name": "stdout",
     "output_type": "stream",
     "text": [
      "15\n"
     ]
    }
   ],
   "source": [
    "def adding(num):\n",
    "    n = 1\n",
    "    total = 0\n",
    "    while n <= num:\n",
    "        total += n\n",
    "        n += 1\n",
    "    print(total)\n",
    "        \n",
    "adding(5)"
   ]
  },
  {
   "cell_type": "code",
   "execution_count": 19,
   "id": "4f2ccdf6",
   "metadata": {},
   "outputs": [
    {
     "name": "stdout",
     "output_type": "stream",
     "text": [
      "1\n",
      "3\n",
      "6\n",
      "10\n",
      "15\n"
     ]
    }
   ],
   "source": [
    "def adding(num):\n",
    "    total = 0\n",
    "    for n in range(1, num+1):\n",
    "        total += n\n",
    "        n += 1\n",
    "        print(total)\n",
    "        \n",
    "adding(5)"
   ]
  },
  {
   "cell_type": "code",
   "execution_count": 24,
   "id": "97af9371",
   "metadata": {},
   "outputs": [
    {
     "name": "stdout",
     "output_type": "stream",
     "text": [
      "50.0\n",
      "4950\n",
      "28.577380332470412\n"
     ]
    }
   ],
   "source": [
    "import numpy as np\n",
    "list1 = range(1, 100)\n",
    "def stats(nums):\n",
    "    print(sum(nums) / len(nums))\n",
    "    print(sum(nums))\n",
    "    print(np.std(nums))\n",
    "    \n",
    "stats(list1)"
   ]
  },
  {
   "cell_type": "code",
   "execution_count": 26,
   "id": "355196dc",
   "metadata": {},
   "outputs": [
    {
     "data": {
      "text/plain": [
       "6"
      ]
     },
     "execution_count": 26,
     "metadata": {},
     "output_type": "execute_result"
    }
   ],
   "source": [
    "def minimal(v1, v2, v3, v4):\n",
    "    Min = v1\n",
    "    if v2 < Min:\n",
    "        Min = v2\n",
    "    if v3 < Min:\n",
    "        Min = v3\n",
    "    if v4 < Min:\n",
    "        Min = v4\n",
    "    return Min\n",
    "\n",
    "minimal(83, 6, 90, 53)"
   ]
  },
  {
   "cell_type": "code",
   "execution_count": 35,
   "id": "085e4293",
   "metadata": {},
   "outputs": [
    {
     "name": "stdout",
     "output_type": "stream",
     "text": [
      "AllisonJacobMeredith\n"
     ]
    }
   ],
   "source": [
    "def concatenate(s1, s2, s3):\n",
    "    return(s1 + s2 + s3)\n",
    "\n",
    "print(concatenate(\"Allison\", \"Jacob\", \"Meredith\"))"
   ]
  },
  {
   "cell_type": "code",
   "execution_count": null,
   "id": "bd14aae3",
   "metadata": {},
   "outputs": [],
   "source": []
  }
 ],
 "metadata": {
  "kernelspec": {
   "display_name": "Python 3 (ipykernel)",
   "language": "python",
   "name": "python3"
  },
  "language_info": {
   "codemirror_mode": {
    "name": "ipython",
    "version": 3
   },
   "file_extension": ".py",
   "mimetype": "text/x-python",
   "name": "python",
   "nbconvert_exporter": "python",
   "pygments_lexer": "ipython3",
   "version": "3.9.12"
  }
 },
 "nbformat": 4,
 "nbformat_minor": 5
}
